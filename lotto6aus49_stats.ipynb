{
 "cells": [
  {
   "cell_type": "code",
   "execution_count": 1,
   "metadata": {},
   "outputs": [],
   "source": [
    "import pandas as pd \n",
    "import numpy as np\n",
    "from collections import Counter\n",
    "import matplotlib.pyplot as plt\n",
    "from IPython.display import display\n",
    "import os\n",
    "\n",
    "\n",
    "plt.rcParams['figure.figsize'] = [40, 9]\n",
    "plt.rcParams['figure.dpi']=1000\n",
    "\n",
    "pd.options.display.max_colwidth =100"
   ]
  },
  {
   "cell_type": "code",
   "execution_count": 2,
   "metadata": {},
   "outputs": [],
   "source": [
    "INITIAL_COUNT = 57\n",
    "COUNTERS_DF = pd.DataFrame()\n",
    "FILTERED_DF = pd.DataFrame()\n",
    "FREQUENCY_ORDER_OF_NUMBERS =\"\"\n",
    "DIR_NAME = os.getcwd()\n"
   ]
  },
  {
   "cell_type": "markdown",
   "metadata": {},
   "source": [
    "## ReadFiles"
   ]
  },
  {
   "cell_type": "code",
   "execution_count": 3,
   "metadata": {},
   "outputs": [
    {
     "data": {
      "text/plain": [
       "Timestamp('2017-01-04 00:00:00')"
      ]
     },
     "execution_count": 3,
     "metadata": {},
     "output_type": "execute_result"
    }
   ],
   "source": [
    "df2018=pd.read_csv(os.path.join(DIR_NAME, 'lottodata/2018.txt'))\n",
    "df2017=pd.read_csv(os.path.join(DIR_NAME, 'lottodata/2017.txt'))\n",
    "\n",
    "#fromating data\n",
    "\n",
    "dt2018 =df2018.rename(columns={'Date': 'date', 'number1' : 'n1', 'number2':'n2', 'number3':'n3', 'number4':'n4', 'number5':'n5',\n",
    "       'number6':'n6', 'number7':'n7', 'jackpot clamied': 'jackpot'}, index ={})\n",
    "dt2018.date= pd.to_datetime(dt2018.date)\n",
    "\n",
    "dt2017 =df2017.rename(columns={'Date': 'date', 'number1' : 'n1', 'number2':'n2', 'number3':'n3', 'number4':'n4', 'number5':'n5',\n",
    "       'number6':'n6', 'number7':'n7', 'jackpot clamied': 'jackpot'}, index ={})\n",
    "dt2017.date= pd.to_datetime(dt2017.date)\n",
    "\n",
    "frames = [dt2018,dt2017]\n",
    "dt = pd.concat(frames)\n",
    "dt.iloc[dt.date.size-1][0]\n"
   ]
  },
  {
   "cell_type": "markdown",
   "metadata": {},
   "source": [
    "## Define Functions"
   ]
  },
  {
   "cell_type": "code",
   "execution_count": 4,
   "metadata": {
    "code_folding": []
   },
   "outputs": [],
   "source": [
    "\n",
    "def do_calculate_frequency(filter_df):\n",
    "    n1c=Counter(filter_df.n1)\n",
    "    n2c=Counter(filter_df.n2)\n",
    "    n3c=Counter(filter_df.n3)\n",
    "    n4c=Counter(filter_df.n4)\n",
    "    n5c=Counter(filter_df.n5)\n",
    "    n6c=Counter(filter_df.n6)\n",
    "    sum1 = n1c+n2c+n3c+n4c+n5c+n6c\n",
    "    data = [sum1,n1c,n2c,n3c,n4c,n5c,n6c]\n",
    "    index = [\"sum\",\"first\", \"second\", \"third\", \"forth\", \"fifth\", \"six\"]\n",
    "    temp =pd.DataFrame(data, index=index)\n",
    "    temp=temp.replace(np.nan,0)\n",
    "    temp=temp.astype('int')\n",
    "    datacounter=temp.transpose()\n",
    "    datacounter=datacounter.sort_values(by='sum', ascending=False)    \n",
    "    return datacounter\n",
    "\n",
    "def do_counter_barplot(datacounter):  \n",
    "    \n",
    "    #plt.figure(figsize=(40, 9), dpi= 1000, facecolor='w', edgecolor='k')\n",
    "    #datacounter.plot.hist(alpha=1)\n",
    "    plt.rcParams['figure.figsize'] = [9, 2.5]\n",
    "    plt.rcParams['figure.dpi']=200\n",
    "    plt.figure()\n",
    "    datacounter.plot.bar()\n",
    "\n",
    "def do_print_counter(datacounter):\n",
    "    t = datacounter\n",
    "    t['position'] = pd.Series(np.array(range(1,datacounter.index.size+1,1)), index=datacounter.index)\n",
    "    global COUNTERS_DF \n",
    "    COUNTERS_DF = t\n",
    "    #t = datacounter.transpose()    \n",
    "    #t['index'] = pd.series(range(1,49,1))\n",
    "    #t.style.set_include_index(True) \n",
    "    #display(t.style)    \n",
    "    display(t.style)\n",
    "    \n",
    "\n",
    "    "
   ]
  },
  {
   "cell_type": "markdown",
   "metadata": {},
   "source": [
    "## Frequency of numbers\n"
   ]
  },
  {
   "cell_type": "code",
   "execution_count": 5,
   "metadata": {
    "code_folding": [],
    "scrolled": false
   },
   "outputs": [
    {
     "data": {
      "application/vnd.jupyter.widget-view+json": {
       "model_id": "f59b86fbee154ebeb1ae07dec97d4135",
       "version_major": 2,
       "version_minor": 0
      },
      "text/plain": [
       "interactive(children=(BoundedIntText(value=57, description='number of entries: ', max=161), Output()), _dom_cl…"
      ]
     },
     "metadata": {},
     "output_type": "display_data"
    },
    {
     "data": {
      "text/plain": [
       "<function __main__.view(y=57)>"
      ]
     },
     "execution_count": 5,
     "metadata": {},
     "output_type": "execute_result"
    }
   ],
   "source": [
    "import ipywidgets as widgets\n",
    "from ipywidgets import interact, HBox, Label\n",
    "\n",
    "def view(y=INITIAL_COUNT):\n",
    "    filter_df = dt.head(y)\n",
    "    print(\"starting from date :\", filter_df.iloc[filter_df.date.size-1][0] )\n",
    "    print(\"number of draws :\", y ,\"from \" , filter_df.iloc[0][0] )\n",
    "    counters = do_calculate_frequency(filter_df=filter_df)\n",
    "    do_counter_barplot(datacounter = counters)\n",
    "    do_print_counter(datacounter = counters)\n",
    "    \n",
    "    global FILTERED_DF \n",
    "    FILTERED_DF = filter_df\n",
    "    \n",
    "    global COUNTERS_DF \n",
    "    COUNTERS_DF = counters\n",
    "    \n",
    "    #do_order_of_frequency(a)\n",
    "    #print(counters.transpose())\n",
    "    #return\n",
    "\n",
    "style = {'description_width': 'initial'}\n",
    "a_slider = widgets.BoundedIntText(min=0, max=dt.date.size, step=1, value=INITIAL_COUNT, description='number of entries: ', sytle=style)\n",
    "widgets.interact(view,y=a_slider)\n"
   ]
  },
  {
   "cell_type": "markdown",
   "metadata": {},
   "source": [
    "## Find the Position of the draw from  the counts"
   ]
  },
  {
   "cell_type": "code",
   "execution_count": 6,
   "metadata": {},
   "outputs": [
    {
     "name": "stdout",
     "output_type": "stream",
     "text": [
      "order: 7 : 42 , 11 : 45 , 31 : 13 , 34 : 9 , 35 : 18 , 36 : 29 , \n",
      "order: 8 : 40 , 9 : 35 , 39 : 47 , 40 : 28 , 41 : 25 , 43 : 27 , \n"
     ]
    },
    {
     "data": {
      "application/vnd.jupyter.widget-view+json": {
       "model_id": "8b60e2a05d4943a79dd3f4a2c05274e7",
       "version_major": 2,
       "version_minor": 0
      },
      "text/plain": [
       "BoundedIntText(value=57, description='number of entries: ', max=161)"
      ]
     },
     "metadata": {},
     "output_type": "display_data"
    }
   ],
   "source": [
    "def do_order_of_frequency(a =[1,1,1,1,1,11]):\n",
    "    i=0\n",
    "    return_string = \"order: \"\n",
    "    \n",
    "    while i < len(a) :\n",
    "        return_string += str(a[i]) + \" : \" + str(COUNTERS_DF.iloc[COUNTERS_DF.index.get_loc(a[i])][7])+ \" , \" \n",
    "        i += 1\n",
    "    global FREQUENCY_ORDER_OF_NUMBERS\n",
    "    FREQUENCY_ORDER_OF_NUMBERS = return_string\n",
    "    return return_string        \n",
    "a = [7,11,31,34,35,36]\n",
    "do_order_of_frequency(a)    \n",
    "print(FREQUENCY_ORDER_OF_NUMBERS)\n",
    "a = [8,9,39,40,41,43]\n",
    "do_order_of_frequency(a)    \n",
    "print(FREQUENCY_ORDER_OF_NUMBERS)\n",
    "\n",
    "\n",
    "a_slider\n",
    "#FREQUENCY_ORDER_OF_NUMBERS"
   ]
  },
  {
   "cell_type": "markdown",
   "metadata": {},
   "source": [
    "## Most common pairs"
   ]
  },
  {
   "cell_type": "code",
   "execution_count": 7,
   "metadata": {},
   "outputs": [
    {
     "data": {
      "text/plain": [
       "42"
      ]
     },
     "execution_count": 7,
     "metadata": {},
     "output_type": "execute_result"
    }
   ],
   "source": [
    "#print(COUNTERS_DF.index.get_loc(7))\n",
    "COUNTERS_DF.iloc[COUNTERS_DF.index.get_loc(7)][7]"
   ]
  },
  {
   "cell_type": "code",
   "execution_count": 8,
   "metadata": {},
   "outputs": [
    {
     "data": {
      "text/plain": [
       "9"
      ]
     },
     "execution_count": 8,
     "metadata": {},
     "output_type": "execute_result"
    }
   ],
   "source": [
    "#FILTERED_DF\n",
    "FILTERED_DF.shape[1]\n",
    "#for i in range(FILTERED_DF.shape[1])"
   ]
  },
  {
   "cell_type": "code",
   "execution_count": 9,
   "metadata": {},
   "outputs": [
    {
     "name": "stdout",
     "output_type": "stream",
     "text": [
      "48\n"
     ]
    }
   ],
   "source": [
    "#COUNTERS_DF\n",
    "t = COUNTERS_DF \n",
    "##t.asign+ position pd.Series(np.array(range(1,49,1)), index=COUNTERS_DF.index)\n",
    "t['position'] = pd.Series(np.array(range(1,COUNTERS_DF.index.size+1,1)), index=COUNTERS_DF.index)\n",
    "#t.assign('postion' = pd.Series(np.array(range(1,COUNTERS_DF.index.size+1,1)), index=COUNTERS_DF.index))\n",
    "print(COUNTERS_DF.index.size)\n",
    "#t "
   ]
  },
  {
   "cell_type": "code",
   "execution_count": null,
   "metadata": {},
   "outputs": [],
   "source": []
  },
  {
   "cell_type": "code",
   "execution_count": null,
   "metadata": {},
   "outputs": [],
   "source": []
  },
  {
   "cell_type": "code",
   "execution_count": null,
   "metadata": {},
   "outputs": [],
   "source": []
  }
 ],
 "metadata": {
  "kernelspec": {
   "display_name": "Python 3",
   "language": "python",
   "name": "python3"
  },
  "language_info": {
   "codemirror_mode": {
    "name": "ipython",
    "version": 3
   },
   "file_extension": ".py",
   "mimetype": "text/x-python",
   "name": "python",
   "nbconvert_exporter": "python",
   "pygments_lexer": "ipython3",
   "version": "3.6.5"
  }
 },
 "nbformat": 4,
 "nbformat_minor": 2
}
